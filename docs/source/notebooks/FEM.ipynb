{
 "cells": [
  {
   "cell_type": "code",
   "execution_count": null,
   "id": "ac4d3f1f",
   "metadata": {},
   "outputs": [],
   "source": [
    "import sys\n",
    "\n",
    "%matplotlib inline\n",
    "%config InlineBackend.figure_format='retina'"
   ]
  },
  {
   "cell_type": "code",
   "execution_count": null,
   "id": "34147137",
   "metadata": {},
   "outputs": [],
   "source": [
    "sys.path.insert(1, \"/Users/helium/Documents/git/eeroqlab/zeroheliumkit/\")\n",
    "\n",
    "from zeroheliumkit import Structure, Rectangle, Square, Ring, Circle\n",
    "from zeroheliumkit.src.settings import GRAY, BLUE, YELLOW2\n",
    "from zeroheliumkit.src.plotting import ColorHandler"
   ]
  },
  {
   "cell_type": "code",
   "execution_count": null,
   "id": "f26677cd",
   "metadata": {},
   "outputs": [],
   "source": [
    "save_dir = \"dump/\"\n",
    "config_dir = \"config/\""
   ]
  },
  {
   "cell_type": "markdown",
   "id": "2f196fae",
   "metadata": {},
   "source": [
    "### **Creating geometry**"
   ]
  },
  {
   "cell_type": "code",
   "execution_count": null,
   "id": "e677d032",
   "metadata": {},
   "outputs": [],
   "source": [
    "device = Structure()\n",
    "device.add_layer(\"wafer\", Square(20))\n",
    "device.add_layer(\"gnd\", Square(20))\n",
    "device.cut_polygon(\"gnd\", Rectangle(3, 9))\n",
    "device.cut_polygon(\"gnd\", Rectangle(9, 3))\n",
    "device.cut_polygon(\"gnd\", Rectangle(9, 3, (0,5)))\n",
    "device.add_layer(\"bottom\", Circle(3))\n",
    "device.add_polygon(\"bottom\", Ring(3.5, 8))\n",
    "device.add_layer(\"etch\", Square(20))\n",
    "device.cut_polygon(\"etch\", device.gnd)\n",
    "\n",
    "device.remove_holes_from_polygons(\"bottom\")\n",
    "device.remove_holes_from_polygons(\"gnd\")\n",
    "\n",
    "device.colors = ColorHandler({\n",
    "    \"wafer\": GRAY,\n",
    "    \"bottom\": YELLOW2,\n",
    "    \"gnd\": (BLUE, 0.85)\n",
    "})\n",
    "device.quickplot(show_idx=True)"
   ]
  },
  {
   "cell_type": "markdown",
   "id": "6a1ad30a",
   "metadata": {},
   "source": [
    "### **Creating Mesh**"
   ]
  },
  {
   "cell_type": "code",
   "execution_count": null,
   "id": "3d3ac5c9",
   "metadata": {},
   "outputs": [],
   "source": [
    "from zeroheliumkit.fem import gmshLayer_info, physSurface_info, GMSHmaker"
   ]
  },
  {
   "cell_type": "code",
   "execution_count": null,
   "id": "d9383836",
   "metadata": {},
   "outputs": [],
   "source": [
    "# extrude parameters\n",
    "d_wafer     = 10\n",
    "d_metal1    = 0.2\n",
    "d_metal2    = 0.1\n",
    "d_diel      = 1.5\n",
    "d_vac       = 20\n",
    "d_He        = d_diel + d_metal2"
   ]
  },
  {
   "cell_type": "code",
   "execution_count": null,
   "id": "0f422062",
   "metadata": {},
   "outputs": [],
   "source": [
    "\"\"\" \n",
    "extrude_config: \n",
    "key - gmsh layer name\n",
    "item - gmshLayer_info dict: \n",
    "       (geometry layer, thickness, z0, Physical Vol Name, CUT gmsh layer=None, forConstruction=False)\n",
    "\"\"\"\n",
    "extrude_config = {\n",
    "    'wafer':        gmshLayer_info('wafer', -d_wafer, d_wafer, 'DIELECTRIC'),\n",
    "    'trap':         gmshLayer_info('bottom', 0, d_metal1, 'METAL'),\n",
    "    'dielectric':   gmshLayer_info('gnd', 0, d_diel, 'DIELECTRIC', ('trap',)),\n",
    "    'top':          gmshLayer_info('gnd', d_diel, d_metal2, 'METAL'),\n",
    "    'helium':       gmshLayer_info('wafer', 0, d_He, 'HELIUM', ('trap', 'dielectric','top')),\n",
    "    'vacuum':       gmshLayer_info('wafer', d_He, d_vac, 'VACUUM', ('dielectric', 'top'))\n",
    "}\n",
    "\n",
    "\"\"\" \n",
    "electrodes_config: \n",
    "key - physicalSurface name\n",
    "item - physSurface_info dict:\n",
    "       (geometry layer, electrode idx in geometry layer, gmsh layer)\n",
    "\"\"\"\n",
    "electrodes_config = {\n",
    "    'mid':   physSurface_info('bottom', [0], 'trap'),\n",
    "    'out':   physSurface_info('bottom', [1,2], 'trap'),\n",
    "    'top':   physSurface_info('gnd', [0,1], 'top'),\n",
    "}\n",
    "\n",
    "scale = 4 # scaling factor for meshing. default 1.8\n",
    "\n",
    "mesh_cfg = [{\"Thickness\": 4, \"VIn\": scale * 0.2, \"VOut\": 2, \"box\": [-10, 10, 10, 10, -5, 5]},\n",
    "            {\"Thickness\": 2, \"VIn\": scale * 0.1, \"VOut\": 2, \"box\": [-8, 8, -8, 8, -2, 2]}\n",
    "            ]"
   ]
  },
  {
   "cell_type": "code",
   "execution_count": null,
   "id": "b6961f3f",
   "metadata": {},
   "outputs": [],
   "source": [
    "meshMKR = GMSHmaker(layout=device, \n",
    "                     extrude_config=extrude_config, \n",
    "                     electrodes_config=electrodes_config, \n",
    "                     mesh_params=mesh_cfg,\n",
    "                     filename=\"dot\")\n",
    "meshMKR.disable_consoleOutput()\n",
    "# meshMKR.create_geo()          # Uncomment to create .geo file\n",
    "meshMKR.create_mesh(dim=3)\n",
    "# meshMKR.open_gmsh()\n",
    "meshMKR.finalize()"
   ]
  },
  {
   "cell_type": "markdown",
   "id": "c6f32c0d",
   "metadata": {},
   "source": [
    "Below is an example of created geometry and a mesh using GMSH.\n",
    "\n",
    "<img src=\"images/fig1.png\" width=\"800\"/>"
   ]
  },
  {
   "cell_type": "markdown",
   "id": "117c68fd",
   "metadata": {},
   "source": [
    "### **Helium Surface Displacement calculations**"
   ]
  },
  {
   "cell_type": "code",
   "execution_count": null,
   "id": "8a58a7e0",
   "metadata": {},
   "outputs": [],
   "source": [
    "s = Structure()\n",
    "s.add_layer('etch', device.etch)\n",
    "s.quickplot(show_line_idx=True)\n",
    "\n",
    "# We want to make boundary with line id 1 and 11 to be open boundary (Neumann boundary),\n",
    "# at all other boundaries displacement is set to 0 (Dirichlet boundary)"
   ]
  },
  {
   "cell_type": "code",
   "execution_count": null,
   "id": "ac59e3e5",
   "metadata": {},
   "outputs": [],
   "source": [
    "from zeroheliumkit.fem.heliumsurface import GMSHmaker2D, HeliumSurfaceFreeFEM"
   ]
  },
  {
   "cell_type": "code",
   "execution_count": null,
   "id": "2eaff545",
   "metadata": {},
   "outputs": [],
   "source": [
    "gmshmkr = GMSHmaker2D(layout = s,\n",
    "                      electode_config = {\"type\": \"polygon\",\n",
    "                                         \"bound\": {\"layer\": (\"etch\", (0,)), \"exclude\": [1,11], \"value\": 0}},\n",
    "                      mesh_config = [{\"Thickness\": 5, \"VIn\": 0.9, \"VOut\": 0.9, \"box\": [-20, -10, 20, 10]}],\n",
    "                      filename = \"heliumsurface\",\n",
    "                      savedir = save_dir)\n",
    "gmshmkr.disable_consoleOutput()\n",
    "gmshmkr.create_mesh()\n",
    "#gmshmkr.open_gmsh()\n",
    "gmshmkr.finalize()"
   ]
  },
  {
   "cell_type": "code",
   "execution_count": null,
   "id": "f111c70e",
   "metadata": {},
   "outputs": [],
   "source": [
    "hsfreefem = HeliumSurfaceFreeFEM(fem_config=gmshmkr.export_physical())\n",
    "res = hsfreefem.run_pyfreefem()\n",
    "\n",
    "# plotting results of helium surface displacement for a bulk helium distance of 10 cm from the gnd surface\n",
    "# note: the geometry units are in micrometers, so the bulk helium distance is set to 0.01 (10 cm)\n",
    "hsfreefem.plot_results(res, bulk_helium_distance=0.01)"
   ]
  },
  {
   "cell_type": "code",
   "execution_count": null,
   "id": "21989241",
   "metadata": {},
   "outputs": [],
   "source": [
    "curvature_config = hsfreefem.get_code_config(bulk_helium_distances=[0, 0.001, 0.01, 0.1], surface_helium_level=d_He)\n",
    "# curvature_config"
   ]
  },
  {
   "cell_type": "markdown",
   "id": "81d0d2a7",
   "metadata": {},
   "source": [
    "### **Creating FreeFem configuration**"
   ]
  },
  {
   "cell_type": "code",
   "execution_count": null,
   "id": "6263dc2c",
   "metadata": {},
   "outputs": [],
   "source": [
    "from zeroheliumkit.fem.freefemer import FFconfigurator, ExtractConfig, FreeFEM"
   ]
  },
  {
   "cell_type": "code",
   "execution_count": null,
   "id": "193c4a7b",
   "metadata": {},
   "outputs": [],
   "source": [
    "He_level = d_He\n",
    "\n",
    "var_eps = {\n",
    "        'DIELECTRIC': 11.0,\n",
    "        'METAL': 1.0,\n",
    "        'HELIUM': 1.057,\n",
    "        'VACUUM': 1.0,\n",
    "}\n",
    "\n",
    "ffc = FFconfigurator(config_file=\"config/dot.yaml\",\n",
    "                     dielectric_constants=var_eps,\n",
    "                     ff_polynomial=2,\n",
    "                     extract_opt=[ExtractConfig(\"result1\", 'phi', 'xy', (-10,10,201), (-10,10,201), d_He),\n",
    "                                  ExtractConfig(\"result2\", 'phi', 'xy', (-10,10,201), (-10,10,201), curvature_config),\n",
    "                                  ExtractConfig(\"result3\", 'Ez', 'yz', (-10,10,101), (-2,2,101), 0.0)\n",
    "                                  ],\n",
    "                     msh_refinements=None\n",
    "                     )"
   ]
  },
  {
   "cell_type": "code",
   "execution_count": null,
   "id": "f37380f6",
   "metadata": {},
   "outputs": [],
   "source": [
    "pyff = FreeFEM(config_file=\"config/dot.yaml\")"
   ]
  },
  {
   "cell_type": "code",
   "execution_count": null,
   "id": "e82549ad",
   "metadata": {},
   "outputs": [],
   "source": [
    "await pyff.run(cores=4, print_log=False, freefem_path=\":/Applications/FreeFem++.app/Contents/ff-4.15.1/bin\", remove_txt_files=True)"
   ]
  },
  {
   "cell_type": "markdown",
   "id": "81f6f51c",
   "metadata": {},
   "source": [
    "### **Parsing FEM results**"
   ]
  },
  {
   "cell_type": "code",
   "execution_count": null,
   "id": "1486b171",
   "metadata": {},
   "outputs": [],
   "source": [
    "# from zeroheliumkit.fem import *"
   ]
  },
  {
   "cell_type": "code",
   "execution_count": null,
   "id": "a5b4367f",
   "metadata": {},
   "outputs": [],
   "source": [
    "# result = read_ff_output([\"dump/ff_data_dot_result1.parquet\",\n",
    "#                   \"dump/ff_data_dot_result2.parquet\",\n",
    "#                   \"dump/ff_data_dot_result3.parquet\"],\n",
    "#                  \"dump/ff_data_dot_header.yaml\")"
   ]
  }
 ],
 "metadata": {
  "kernelspec": {
   "display_name": "v",
   "language": "python",
   "name": "v"
  },
  "language_info": {
   "codemirror_mode": {
    "name": "ipython",
    "version": 3
   },
   "file_extension": ".py",
   "mimetype": "text/x-python",
   "name": "python",
   "nbconvert_exporter": "python",
   "pygments_lexer": "ipython3",
   "version": "3.11.0"
  }
 },
 "nbformat": 4,
 "nbformat_minor": 5
}
