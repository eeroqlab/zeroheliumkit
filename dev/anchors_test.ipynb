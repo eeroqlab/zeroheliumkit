{
 "cells": [
  {
   "cell_type": "code",
   "execution_count": 2,
   "metadata": {},
   "outputs": [],
   "source": [
    "import numpy as np\n",
    "import sys\n",
    "import matplotlib.pyplot as plt\n",
    "import copy\n",
    "\n",
    "from shapely import Point\n",
    "from shapely import affinity, set_precision\n",
    "from shapely.plotting import plot_points\n",
    "\n",
    "#sys.path.insert(1, '/Users/neoh/Documents/git/eeroqlab/fabrication/')\n",
    "sys.path.insert(1, '/Users/helium/Documents/git/eeroqlab/fabrication')\n",
    "from zeroheliumkit.settings import *\n",
    "from zeroheliumkit.helpers.plotting import *\n",
    "\n",
    "%matplotlib inline\n",
    "%config InlineBackend.figure_format='retina'\n",
    "\n",
    "GRID_SIZE = 1e-4"
   ]
  },
  {
   "cell_type": "code",
   "execution_count": null,
   "metadata": {},
   "outputs": [],
   "source": []
  }
 ],
 "metadata": {
  "kernelspec": {
   "display_name": "fem",
   "language": "python",
   "name": "python3"
  },
  "language_info": {
   "codemirror_mode": {
    "name": "ipython",
    "version": 3
   },
   "file_extension": ".py",
   "mimetype": "text/x-python",
   "name": "python",
   "nbconvert_exporter": "python",
   "pygments_lexer": "ipython3",
   "version": "3.11.3"
  },
  "orig_nbformat": 4
 },
 "nbformat": 4,
 "nbformat_minor": 2
}
